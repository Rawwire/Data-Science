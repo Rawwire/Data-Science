{
 "cells": [
  {
   "cell_type": "code",
   "execution_count": 1,
   "id": "b0ef6f1a",
   "metadata": {},
   "outputs": [
    {
     "name": "stdout",
     "output_type": "stream",
     "text": [
      "Requirement already satisfied: numpy in c:\\users\\kannan\\anaconda3\\lib\\site-packages (1.24.3)\n",
      "Note: you may need to restart the kernel to use updated packages.\n"
     ]
    }
   ],
   "source": [
    "pip install numpy"
   ]
  },
  {
   "cell_type": "code",
   "execution_count": 2,
   "id": "1f135c0b",
   "metadata": {},
   "outputs": [],
   "source": [
    "import numpy as np"
   ]
  },
  {
   "cell_type": "code",
   "execution_count": 4,
   "id": "8092b683",
   "metadata": {},
   "outputs": [
    {
     "name": "stdout",
     "output_type": "stream",
     "text": [
      "1.24.3\n"
     ]
    }
   ],
   "source": [
    "print(np.__version__)\n"
   ]
  },
  {
   "cell_type": "code",
   "execution_count": 5,
   "id": "df624cae",
   "metadata": {},
   "outputs": [
    {
     "name": "stdout",
     "output_type": "stream",
     "text": [
      "[1 2 3 4 5]\n"
     ]
    }
   ],
   "source": [
    "new = np.array([1, 2, 3, 4, 5])\n",
    "print(new)\n"
   ]
  },
  {
   "cell_type": "code",
   "execution_count": 6,
   "id": "1f73f79b",
   "metadata": {},
   "outputs": [
    {
     "data": {
      "text/plain": [
       "numpy.ndarray"
      ]
     },
     "execution_count": 6,
     "metadata": {},
     "output_type": "execute_result"
    }
   ],
   "source": [
    "type(new)"
   ]
  },
  {
   "cell_type": "code",
   "execution_count": 7,
   "id": "004f8f9d",
   "metadata": {},
   "outputs": [
    {
     "name": "stdout",
     "output_type": "stream",
     "text": [
      "[1 2 3 4 5]\n"
     ]
    }
   ],
   "source": [
    "new = np.array((1, 2, 3, 4, 5))\n",
    "print(new)"
   ]
  },
  {
   "cell_type": "code",
   "execution_count": 9,
   "id": "9c4f29a7",
   "metadata": {},
   "outputs": [
    {
     "name": "stdout",
     "output_type": "stream",
     "text": [
      "23\n"
     ]
    }
   ],
   "source": [
    "#0-D\n",
    "new = np.array(23)\n",
    "print(new)"
   ]
  },
  {
   "cell_type": "code",
   "execution_count": 11,
   "id": "fbc18158",
   "metadata": {},
   "outputs": [
    {
     "data": {
      "text/plain": [
       "array([12])"
      ]
     },
     "execution_count": 11,
     "metadata": {},
     "output_type": "execute_result"
    }
   ],
   "source": [
    "#1-D\n",
    "new=np.array([12])\n",
    "new"
   ]
  },
  {
   "cell_type": "code",
   "execution_count": 12,
   "id": "5277aa38",
   "metadata": {},
   "outputs": [
    {
     "name": "stdout",
     "output_type": "stream",
     "text": [
      "[[12]\n",
      " [23]]\n"
     ]
    }
   ],
   "source": [
    "#2-D\n",
    "new=np.array([[12],[23]])\n",
    "print(new)"
   ]
  },
  {
   "cell_type": "code",
   "execution_count": 14,
   "id": "b8d91b01",
   "metadata": {},
   "outputs": [
    {
     "name": "stdout",
     "output_type": "stream",
     "text": [
      "[[[12]\n",
      "  [23]]\n",
      "\n",
      " [[45]\n",
      "  [23]]]\n"
     ]
    }
   ],
   "source": [
    "#3-D\n",
    "new=np.array([[[12],[23]],[[45],[23]]])\n",
    "print(new)"
   ]
  },
  {
   "cell_type": "code",
   "execution_count": 15,
   "id": "4547614e",
   "metadata": {},
   "outputs": [
    {
     "name": "stdout",
     "output_type": "stream",
     "text": [
      "3\n"
     ]
    }
   ],
   "source": [
    "print(new.ndim)"
   ]
  },
  {
   "cell_type": "code",
   "execution_count": 16,
   "id": "3346d849",
   "metadata": {},
   "outputs": [
    {
     "name": "stdout",
     "output_type": "stream",
     "text": [
      "[[[[[1 2 3 4]]]]]\n",
      "number of dimensions : 5\n"
     ]
    }
   ],
   "source": [
    "new= np.array([1, 2, 3, 4], ndmin=5)\n",
    "\n",
    "print(new)\n",
    "print('number of dimensions :', new.ndim)     "
   ]
  },
  {
   "cell_type": "code",
   "execution_count": null,
   "id": "a9dd881f",
   "metadata": {},
   "outputs": [],
   "source": [
    "new= np.array([1, 2, 3, 4], ndmin=5)\n"
   ]
  },
  {
   "cell_type": "code",
   "execution_count": 60,
   "id": "afba2b38",
   "metadata": {},
   "outputs": [
    {
     "data": {
      "text/plain": [
       "array([1.+0.j, 2.+0.j, 3.+0.j, 4.+0.j])"
      ]
     },
     "execution_count": 60,
     "metadata": {},
     "output_type": "execute_result"
    }
   ],
   "source": [
    "new= np.array([1, 2, 3, 4], dtype=complex)\n",
    "new"
   ]
  },
  {
   "cell_type": "code",
   "execution_count": 61,
   "id": "ceedbd51",
   "metadata": {},
   "outputs": [
    {
     "data": {
      "text/plain": [
       "array(['1', '2', '3', '4'], dtype='<U1')"
      ]
     },
     "execution_count": 61,
     "metadata": {},
     "output_type": "execute_result"
    }
   ],
   "source": [
    "new= np.array([1, 2, 3, 4], dtype=str)\n",
    "new"
   ]
  },
  {
   "cell_type": "code",
   "execution_count": 62,
   "id": "c02ff520",
   "metadata": {},
   "outputs": [
    {
     "data": {
      "text/plain": [
       "array([1, 2, 3, 4])"
      ]
     },
     "execution_count": 62,
     "metadata": {},
     "output_type": "execute_result"
    }
   ],
   "source": [
    "new= np.array([1, 2, 3, 4], dtype=int)\n",
    "new"
   ]
  },
  {
   "cell_type": "code",
   "execution_count": 63,
   "id": "3ec38d98",
   "metadata": {},
   "outputs": [
    {
     "data": {
      "text/plain": [
       "array([1., 2., 3., 4.])"
      ]
     },
     "execution_count": 63,
     "metadata": {},
     "output_type": "execute_result"
    }
   ],
   "source": [
    "new= np.array([1, 2, 3, 4], dtype=float)\n",
    "new"
   ]
  },
  {
   "cell_type": "code",
   "execution_count": 64,
   "id": "99377495",
   "metadata": {},
   "outputs": [
    {
     "data": {
      "text/plain": [
       "numpy.dtype"
      ]
     },
     "execution_count": 64,
     "metadata": {},
     "output_type": "execute_result"
    }
   ],
   "source": [
    "np.dtype"
   ]
  },
  {
   "cell_type": "code",
   "execution_count": 65,
   "id": "ab5dfea4",
   "metadata": {},
   "outputs": [
    {
     "name": "stdout",
     "output_type": "stream",
     "text": [
      "int32\n"
     ]
    }
   ],
   "source": [
    "x=np.dtype(np.int32)\n",
    "print(x)"
   ]
  },
  {
   "cell_type": "code",
   "execution_count": 69,
   "id": "23e7965e",
   "metadata": {},
   "outputs": [
    {
     "data": {
      "text/plain": [
       "dtype('int16')"
      ]
     },
     "execution_count": 69,
     "metadata": {},
     "output_type": "execute_result"
    }
   ],
   "source": [
    "x=np.dtype('i2')\n",
    "x"
   ]
  },
  {
   "cell_type": "code",
   "execution_count": 72,
   "id": "08692cba",
   "metadata": {},
   "outputs": [
    {
     "data": {
      "text/plain": [
       "dtype([('age', '<i4')])"
      ]
     },
     "execution_count": 72,
     "metadata": {},
     "output_type": "execute_result"
    }
   ],
   "source": [
    "#create structure datatype\n",
    "x=np.dtype([(\"age\",\"i4\")])\n",
    "x"
   ]
  },
  {
   "cell_type": "code",
   "execution_count": 80,
   "id": "2a55c6eb",
   "metadata": {},
   "outputs": [
    {
     "data": {
      "text/plain": [
       "array([(10,), (20,), (30,)], dtype=[('age', '<i4')])"
      ]
     },
     "execution_count": 80,
     "metadata": {},
     "output_type": "execute_result"
    }
   ],
   "source": [
    "a = np.array([(10),(20),(30)],dtype=x)\n",
    "a"
   ]
  },
  {
   "cell_type": "code",
   "execution_count": 83,
   "id": "204e6b9c",
   "metadata": {},
   "outputs": [
    {
     "data": {
      "text/plain": [
       "array([10, 20, 30])"
      ]
     },
     "execution_count": 83,
     "metadata": {},
     "output_type": "execute_result"
    }
   ],
   "source": [
    "a['age']"
   ]
  },
  {
   "cell_type": "code",
   "execution_count": 87,
   "id": "14c2199c",
   "metadata": {},
   "outputs": [
    {
     "data": {
      "text/plain": [
       "dtype('S20')"
      ]
     },
     "execution_count": 87,
     "metadata": {},
     "output_type": "execute_result"
    }
   ],
   "source": [
    "student=np.dtype([(\"name\",\"S20\"),(\"age\",\"i1\"),(\"mark\",\"f2\")])\n",
    "student\n",
    "student[\"name\"]"
   ]
  },
  {
   "cell_type": "code",
   "execution_count": 91,
   "id": "df177def",
   "metadata": {},
   "outputs": [
    {
     "data": {
      "text/plain": [
       "array([(b'student1', 10, 23.  ), (b'student2', 20, 78.06),\n",
       "       (b'student3', 30, 78.  )],\n",
       "      dtype=[('name', 'S20'), ('age', 'i1'), ('mark', '<f2')])"
      ]
     },
     "execution_count": 91,
     "metadata": {},
     "output_type": "execute_result"
    }
   ],
   "source": [
    "a = np.array([(\"student1\",10,23),(\"student2\",20,78.09),(\"student3\",30,78.0)],dtype=student)\n",
    "a"
   ]
  },
  {
   "cell_type": "code",
   "execution_count": 19,
   "id": "43f70e85",
   "metadata": {},
   "outputs": [
    {
     "name": "stdout",
     "output_type": "stream",
     "text": [
      "5\n"
     ]
    }
   ],
   "source": [
    "new = np.array([1, 2, 3, 4])\n",
    "\n",
    "print(new[1]+new[2])"
   ]
  },
  {
   "cell_type": "code",
   "execution_count": 23,
   "id": "fec6ddf1",
   "metadata": {},
   "outputs": [
    {
     "name": "stdout",
     "output_type": "stream",
     "text": [
      "2\n"
     ]
    }
   ],
   "source": [
    "#indexing\n",
    "new = np.array([[1,2,3,4,5], [6,7,8,9,10]])\n",
    "print( new[0, 1])"
   ]
  },
  {
   "cell_type": "code",
   "execution_count": 26,
   "id": "5336d967",
   "metadata": {},
   "outputs": [
    {
     "name": "stdout",
     "output_type": "stream",
     "text": [
      "3\n"
     ]
    }
   ],
   "source": [
    "new = np.array([[[1, 2, 3], [4, 5, 6]], [[7, 8, 9], [10, 11, 12]]])\n",
    "\n",
    "print(new[0, 0, 2])"
   ]
  },
  {
   "cell_type": "code",
   "execution_count": 28,
   "id": "9ea34225",
   "metadata": {},
   "outputs": [
    {
     "name": "stdout",
     "output_type": "stream",
     "text": [
      "negative indexing  10\n"
     ]
    }
   ],
   "source": [
    "arr = np.array([[1,2,3,4,5], [6,7,8,9,10]])\n",
    "\n",
    "print('negative indexing ', arr[-1, -1])"
   ]
  },
  {
   "cell_type": "code",
   "execution_count": 31,
   "id": "9f8f18ab",
   "metadata": {},
   "outputs": [
    {
     "name": "stdout",
     "output_type": "stream",
     "text": [
      "[[2 3 4]\n",
      " [7 8 9]]\n"
     ]
    }
   ],
   "source": [
    "new = np.array([[[1,2,3,4,5], [6,7,8,9,10]],[[11,12,13,14,15], [16,17,18,19,10]]])\n",
    "\n",
    "print(arr[0:2, 1:4])"
   ]
  },
  {
   "cell_type": "code",
   "execution_count": 36,
   "id": "7b830111",
   "metadata": {},
   "outputs": [
    {
     "name": "stdout",
     "output_type": "stream",
     "text": [
      "[[ 1  2  3]\n",
      " [ 4  5  6]\n",
      " [ 7  8  9]\n",
      " [10 11 12]\n",
      " [34 56 67]]\n"
     ]
    }
   ],
   "source": [
    "#1D to 2D\n",
    "\n",
    "new = np.array([1, 2, 3, 4, 5, 6, 7, 8, 9, 10, 11, 12,34,56,67])\n",
    "new1 = new.reshape(5, 3)\n",
    "print(new1)"
   ]
  },
  {
   "cell_type": "code",
   "execution_count": 46,
   "id": "a917c1fe",
   "metadata": {},
   "outputs": [
    {
     "data": {
      "text/plain": [
       "array([[[ 1,  2,  3],\n",
       "        [ 4,  5,  6],\n",
       "        [ 7,  8,  9]],\n",
       "\n",
       "       [[10, 11, 12],\n",
       "        [13, 14, 15],\n",
       "        [16, 17, 18]]])"
      ]
     },
     "execution_count": 46,
     "metadata": {},
     "output_type": "execute_result"
    }
   ],
   "source": [
    "new = np.array([1, 2, 3, 4, 5, 6, 7, 8, 9, 10, 11, 12,13,14,15,16,17,18])\n",
    "new1 = new.reshape(2, 3,3)\n",
    "new1"
   ]
  },
  {
   "cell_type": "code",
   "execution_count": 55,
   "id": "045b375d",
   "metadata": {},
   "outputs": [
    {
     "name": "stdout",
     "output_type": "stream",
     "text": [
      "0\n",
      "[[1 2 3]\n",
      " [4 5 6]\n",
      " [7 8 9]]\n",
      "1\n",
      "[[10 11 12]\n",
      " [13 14 15]\n",
      " [16 17 18]]\n"
     ]
    }
   ],
   "source": [
    "for i,j in enumerate (new1):\n",
    "    print(i)\n",
    "    print(j)"
   ]
  },
  {
   "cell_type": "code",
   "execution_count": 57,
   "id": "096a145d",
   "metadata": {},
   "outputs": [
    {
     "name": "stdout",
     "output_type": "stream",
     "text": [
      "0\n",
      "[1 2 3]\n",
      "1\n",
      "[4 5 6]\n",
      "2\n",
      "[7 8 9]\n",
      "0\n",
      "[10 11 12]\n",
      "1\n",
      "[13 14 15]\n",
      "2\n",
      "[16 17 18]\n"
     ]
    }
   ],
   "source": [
    "for i in new1:\n",
    "    for k,j in enumerate (i):\n",
    "        print(k)\n",
    "        print(j)"
   ]
  },
  {
   "cell_type": "code",
   "execution_count": 59,
   "id": "361e4235",
   "metadata": {},
   "outputs": [
    {
     "name": "stdout",
     "output_type": "stream",
     "text": [
      "0 index\n",
      "1\n",
      "1 index\n",
      "2\n",
      "2 index\n",
      "3\n",
      "0 index\n",
      "4\n",
      "1 index\n",
      "5\n",
      "2 index\n",
      "6\n",
      "0 index\n",
      "7\n",
      "1 index\n",
      "8\n",
      "2 index\n",
      "9\n",
      "0 index\n",
      "10\n",
      "1 index\n",
      "11\n",
      "2 index\n",
      "12\n",
      "0 index\n",
      "13\n",
      "1 index\n",
      "14\n",
      "2 index\n",
      "15\n",
      "0 index\n",
      "16\n",
      "1 index\n",
      "17\n",
      "2 index\n",
      "18\n"
     ]
    }
   ],
   "source": [
    "for i in new1:\n",
    "    for j in i:\n",
    "        for k ,l in enumerate (j):\n",
    "            print(k,\"index\")\n",
    "            print(l)"
   ]
  },
  {
   "cell_type": "code",
   "execution_count": null,
   "id": "439bce2e",
   "metadata": {},
   "outputs": [],
   "source": []
  }
 ],
 "metadata": {
  "kernelspec": {
   "display_name": "Python 3 (ipykernel)",
   "language": "python",
   "name": "python3"
  },
  "language_info": {
   "codemirror_mode": {
    "name": "ipython",
    "version": 3
   },
   "file_extension": ".py",
   "mimetype": "text/x-python",
   "name": "python",
   "nbconvert_exporter": "python",
   "pygments_lexer": "ipython3",
   "version": "3.11.5"
  }
 },
 "nbformat": 4,
 "nbformat_minor": 5
}
